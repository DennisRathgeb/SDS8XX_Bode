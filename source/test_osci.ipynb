{
 "cells": [
  {
   "cell_type": "code",
   "execution_count": null,
   "metadata": {},
   "outputs": [
    {
     "name": "stdout",
     "output_type": "stream",
     "text": [
      "Collecting pyserial\n",
      "  Using cached pyserial-3.5-py2.py3-none-any.whl.metadata (1.6 kB)\n",
      "Using cached pyserial-3.5-py2.py3-none-any.whl (90 kB)\n",
      "Installing collected packages: pyserial\n",
      "Successfully installed pyserial-3.5\n",
      "Note: you may need to restart the kernel to use updated packages.\n"
     ]
    }
   ],
   "source": [
    "pip install pydantic\n",
    "pip install fastapi\n",
    "pip install uvicorn\n"
   ]
  },
  {
   "cell_type": "code",
   "execution_count": 16,
   "metadata": {},
   "outputs": [],
   "source": [
    "import sys\n",
    "import os\n",
    "\n",
    "# Add the parent directory to sys.path\n",
    "project_root = os.path.abspath(\"..\")  # or adjust based on your file structure\n",
    "if project_root not in sys.path:\n",
    "    sys.path.append(project_root)\n",
    "    \n",
    "from oscillatordrivers.sds8xx import SDS8XX\n"
   ]
  },
  {
   "cell_type": "code",
   "execution_count": 17,
   "metadata": {},
   "outputs": [
    {
     "name": "stdout",
     "output_type": "stream",
     "text": [
      "🔌 Scanning USB-connected SIGLENT scopes...\n",
      "\n",
      "Available VISA devices:\n",
      "  -> USB0::0xF4EC::0x1017::SDS08A0C802253::INSTR\n",
      "  -> ASRL3::INSTR\n",
      "  -> ASRL4::INSTR\n",
      "  -> ASRL5::INSTR\n",
      "  -> ASRL6::INSTR\n",
      "  -> ASRL11::INSTR\n",
      "  -> ASRL12::INSTR\n",
      "  -> ASRL13::INSTR\n",
      "\n",
      "✅ Connected to: Siglent Technologies,SDS824X HD,SDS08A0C802253,3.8.11.1.1.3.3\n",
      "Scope is ready!\n"
     ]
    },
    {
     "ename": "AttributeError",
     "evalue": "'SDS8XX' object has no attribute 'write'",
     "output_type": "error",
     "traceback": [
      "\u001b[31m---------------------------------------------------------------------------\u001b[39m",
      "\u001b[31mAttributeError\u001b[39m                            Traceback (most recent call last)",
      "\u001b[36mCell\u001b[39m\u001b[36m \u001b[39m\u001b[32mIn[17]\u001b[39m\u001b[32m, line 5\u001b[39m\n\u001b[32m      3\u001b[39m \u001b[38;5;28;01mif\u001b[39;00m scope.connect():\n\u001b[32m      4\u001b[39m     \u001b[38;5;28mprint\u001b[39m(\u001b[33m\"\u001b[39m\u001b[33mScope is ready!\u001b[39m\u001b[33m\"\u001b[39m)\n\u001b[32m----> \u001b[39m\u001b[32m5\u001b[39m     \u001b[43mscope\u001b[49m\u001b[43m.\u001b[49m\u001b[43mwrite\u001b[49m(\u001b[33m\"\u001b[39m\u001b[33mASET\u001b[39m\u001b[33m\"\u001b[39m)\n\u001b[32m      6\u001b[39m \u001b[38;5;28;01melse\u001b[39;00m:\n\u001b[32m      7\u001b[39m     \u001b[38;5;28mprint\u001b[39m(\u001b[33m\"\u001b[39m\u001b[33mCould not find SDS800X HD scope.\u001b[39m\u001b[33m\"\u001b[39m)\n",
      "\u001b[31mAttributeError\u001b[39m: 'SDS8XX' object has no attribute 'write'"
     ]
    }
   ],
   "source": [
    "scope = SDS8XX()\n",
    "\n",
    "if scope.connect():\n",
    "    print(\"Scope is ready!\")\n",
    "    scope.write(\"ASET\")\n",
    "else:\n",
    "    print(\"Could not find SDS800X HD scope.\")\n"
   ]
  }
 ],
 "metadata": {
  "kernelspec": {
   "display_name": ".venv",
   "language": "python",
   "name": "python3"
  },
  "language_info": {
   "codemirror_mode": {
    "name": "ipython",
    "version": 3
   },
   "file_extension": ".py",
   "mimetype": "text/x-python",
   "name": "python",
   "nbconvert_exporter": "python",
   "pygments_lexer": "ipython3",
   "version": "3.12.6"
  }
 },
 "nbformat": 4,
 "nbformat_minor": 2
}
